{
 "cells": [
  {
   "cell_type": "markdown",
   "metadata": {},
   "source": [
    "# Compare Territories\n",
    "\n",
    "This should include:\n",
    " - Classify major territories (LAD, Diag1, Diag2, Intermedius, LCx, RPLA, PDA)\n",
    " - Take index MBF in each territory\n",
    " - Output Bar charts"
   ]
  },
  {
   "cell_type": "code",
   "execution_count": null,
   "metadata": {},
   "outputs": [],
   "source": [
    "#classify major territories\n",
    "import numpy as np\n",
    "\n",
    "MBF_data_pre = {\"LAD\": np.array([]), \"LCx\": np.array([]), \"Intermedius\": np.array([]), \"Diag1\": np.array([]), \"Diag2\": np.array([]), \"PDA\": np.array([]), \"PL\": np.array([])}\n",
    "MBF_data_post = {\"LAD\": np.array([]), \"LCx\": np.array([]), \"Intermedius\": np.array([]), \"Diag1\": np.array([]), \"Diag2\": np.array([]), \"PDA\": np.array([]), \"PL\": np.array([])}\n",
    "MBF_Labels = {\"LAD\": [], \"LCx\":[], \"Intermedius\":[], \"Diag1\":[], \"Diag2\":[], \"PDA\":[], \"PL\":[]}\n",
    "\n",
    "InputMBFB = \"/Users/ana/Documents/AnahitaSeresti/05_PrePostCABG/MBFMaps/SU11B/MBF_Territories_B_Normalized.vtu\"\n",
    "InputMBFA = \"/Users/ana/Documents/AnahitaSeresti/05_PrePostCABG/MBFMaps/SU11A/MBF_Territories_A_Normalized.vtu\"\n",
    "InputLabelFile = \"/Users/ana/Documents/AnahitaSeresti/05_PrePostCABG/MBFMaps/SU11B/MBF_Territories_Labels_B.dat\"\n",
    "\n",
    "with open(InputLabelFile, \"r\") as ifile:\n",
    "    for LINE in ifile:\n",
    "        line = LINE.split()\n",
    "        for key in MBF_Labels.keys():\n",
    "            if line[1].find(key)>=0: MBF_Labels[key].append(int(line[0]))"
   ]
  },
  {
   "cell_type": "code",
   "execution_count": null,
   "metadata": {},
   "outputs": [],
   "source": [
    "import vtk\n",
    "import numpy as np\n",
    "from utilities import ReadVTUFile, ThresholdInBetween\n",
    "from vtk.util.numpy_support import vtk_to_numpy\n",
    "\n",
    "MBF_A = ReadVTUFile(InputMBFA)\n",
    "MBF_B = ReadVTUFile(InputMBFB)\n",
    "\n",
    "for key in MBF_Labels.keys():\n",
    "    for i in MBF_Labels[key]:\n",
    "        territory_b = ThresholdInBetween(MBF_B, \"TerritoryMaps\", i, i+1)\n",
    "        indexMBF_ = vtk_to_numpy(territory_b.GetPointData().GetArray(\"IndexMBF\"))\n",
    "        MBF_data_post[key] = np.append(indexMBF_, MBF_data_post[key])\n",
    "\n",
    "        territory_a = ThresholdInBetween(MBF_A, \"TerritoryMaps\", i, i+1)\n",
    "        indexMBF_ = vtk_to_numpy(territory_a.GetPointData().GetArray(\"IndexMBF\"))\n",
    "        MBF_data_pre[key] = np.append(indexMBF_, MBF_data_pre[key])\n",
    "\n"
   ]
  },
  {
   "cell_type": "code",
   "execution_count": null,
   "metadata": {},
   "outputs": [],
   "source": [
    "#plot\n",
    "import matplotlib.pyplot as plt\n",
    "\n",
    "Labels = []\n",
    "IndexMBF = []\n",
    "for key in MBF_Labels.keys():\n",
    "    Labels.append(f'{key}_pre')\n",
    "    Labels.append(f'{key}_post')\n",
    "    IndexMBF.append(MBF_data_pre[key])\n",
    "    IndexMBF.append(MBF_data_post[key])\n",
    "\n",
    "\n",
    "colors = ['aquamarine', 'aquamarine', 'mediumspringgreen', 'mediumspringgreen', 'palegreen', 'palegreen', 'thistle', 'thistle', 'lavender', 'lavender', 'salmon', 'salmon', 'peachpuff', 'peachpuff']\n",
    "\n",
    "fig, ax = plt.subplots()\n",
    "ax.set_ylabel(\"Index MBF\", fontdict={'color':'blue','size':20})\n",
    "ax.set_ylim(0, 2)\n",
    "\n",
    "\n",
    "bplot = ax.boxplot(IndexMBF, patch_artist=True, labels=Labels, showfliers= False)\n",
    "\n",
    "for patch, color in zip(bplot['boxes'], colors):\n",
    "    patch.set_color(color)\n",
    "\n",
    "for median in bplot['medians']:\n",
    "    median.set_color('darkblue')\n",
    "    median.set_linewidth(2)\n",
    "\n",
    "plt.setp(ax.get_xticklabels(), rotation=45, ha='right')\n",
    "\n",
    "plt.tight_layout()\n",
    "plt.show()\n",
    "\n",
    "\n",
    "\n"
   ]
  },
  {
   "cell_type": "code",
   "execution_count": null,
   "metadata": {},
   "outputs": [],
   "source": [
    "MBF_data_pre = {\"LAD\": np.array([]), \"LCx\": np.array([]), \"Intermedius\": np.array([]), \"Diag1\": np.array([]), \"Diag2\": np.array([]), \"PDA\": np.array([]), \"PL\": np.array([])}\n",
    "MBF_data_post = {\"LAD\": np.array([]), \"LCx\": np.array([]), \"Intermedius\": np.array([]), \"Diag1\": np.array([]), \"Diag2\": np.array([]), \"PDA\": np.array([]), \"PL\": np.array([])}\n",
    "\n",
    "for key in MBF_Labels.keys():\n",
    "    for i in MBF_Labels[key]:\n",
    "        territory_b = ThresholdInBetween(MBF_B, \"TerritoryMaps\", i, i+1)\n",
    "        indexMBF_ = vtk_to_numpy(territory_b.GetPointData().GetArray(0))\n",
    "        MBF_data_post[key] = np.append(indexMBF_, MBF_data_post[key])\n",
    "\n",
    "        territory_a = ThresholdInBetween(MBF_A, \"TerritoryMaps\", i, i+1)\n",
    "        indexMBF_ = vtk_to_numpy(territory_a.GetPointData().GetArray(0))\n",
    "        MBF_data_pre[key] = np.append(indexMBF_, MBF_data_pre[key])\n",
    "\n",
    "Labels = []\n",
    "IndexMBF = []\n",
    "for key in MBF_Labels.keys():\n",
    "    Labels.append(f'{key}_pre')\n",
    "    Labels.append(f'{key}_post')\n",
    "    IndexMBF.append(MBF_data_pre[key])\n",
    "    IndexMBF.append(MBF_data_post[key])\n",
    "\n",
    "\n",
    "colors = ['aquamarine', 'aquamarine', 'palegreen', 'palegreen', 'lightcyan', 'lightcyan', 'thistle', 'thistle', 'lavender', 'lavender', 'salmon', 'salmon', 'peachpuff', 'peachpuff']\n",
    "\n",
    "fig, ax = plt.subplots()\n",
    "ax.set_ylabel(\"MBF (ml/min/100g)\", fontdict={'color':'blue','size':20})\n",
    "#ax.set_ylim(0, 2)\n",
    "\n",
    "\n",
    "bplot = ax.boxplot(IndexMBF, patch_artist=True, labels=Labels, showfliers= False)\n",
    "\n",
    "for patch, color in zip(bplot['boxes'], colors):\n",
    "    patch.set_color(color)\n",
    "\n",
    "for median in bplot['medians']:\n",
    "    median.set_color('darkblue')\n",
    "    median.set_linewidth(2)\n",
    "\n",
    "plt.setp(ax.get_xticklabels(), rotation=45, ha='right', fontsize = 13)\n",
    "\n",
    "plt.tight_layout()\n",
    "plt.show()\n"
   ]
  },
  {
   "cell_type": "code",
   "execution_count": null,
   "metadata": {},
   "outputs": [],
   "source": [
    "for (i, key) in enumerate(MBF_Labels.keys()):\n",
    "    print(key, i)\n",
    "\n",
    "if 2 is not 1:\n",
    "    print( \"2 is not 1\")"
   ]
  },
  {
   "cell_type": "code",
   "execution_count": null,
   "metadata": {},
   "outputs": [],
   "source": [
    "print(MBF_data_pre[\"Intermedius\"] is None)"
   ]
  },
  {
   "cell_type": "code",
   "execution_count": null,
   "metadata": {},
   "outputs": [],
   "source": [
    "cavitycapped = \"/Users/ana/Documents/AnahitaSeresti/05_PrePostCABG/MBFMaps/SU11B/Morphology/CavityCapped.vtp\"\n",
    "endocardium = \"/Users/ana/Documents/AnahitaSeresti/05_PrePostCABG/MBFMaps/SU11B/Morphology/Endocardium.vtp\"\n",
    "epicardium = \"/Users/ana/Documents/AnahitaSeresti/05_PrePostCABG/MBFMaps/SU11B/Morphology/Epicardium.vtp\"\n",
    "\n",
    "from utilities import ReadVTPFile\n",
    "\n",
    "CavityCapped = ReadVTPFile(cavitycapped)\n",
    "Endocardium = ReadVTPFile(endocardium)\n",
    "Epicardium = ReadVTPFile(epicardium)\n",
    "\n"
   ]
  },
  {
   "cell_type": "code",
   "execution_count": null,
   "metadata": {},
   "outputs": [],
   "source": [
    "CavityProp = vtk.vtkMassProperties()\n",
    "CavityProp.SetInputData(CavityCapped)\n",
    "CavityProp.Update()\n",
    "volume = CavityProp.GetVolume()\n",
    "volume"
   ]
  },
  {
   "cell_type": "code",
   "execution_count": null,
   "metadata": {},
   "outputs": [],
   "source": [
    "EndoProp = vtk.vtkMassProperties()\n",
    "EndoProp.SetInputData(Endocardium)\n",
    "EndoProp.Update()\n",
    "surface = EndoProp.GetSurfaceArea()\n",
    "surface"
   ]
  },
  {
   "cell_type": "code",
   "execution_count": null,
   "metadata": {},
   "outputs": [],
   "source": [
    "distancefilter = vtk.vtkDistancePolyDataFilter()\n",
    "distancefilter.SetInputData(1, Endocardium)\n",
    "distancefilter.SetInputData(0, Epicardium)\n",
    "distancefilter.SignedDistanceOff()\n",
    "distancefilter.Update()\n",
    "\n",
    "distoutput = distancefilter.GetOutput()\n",
    "\n",
    "import os\n",
    "from utilities import WriteVTPFile\n",
    "WriteVTPFile(f\"{os.path.splitext(epicardium)[0]}_distance.vtp\", distoutput)"
   ]
  },
  {
   "cell_type": "code",
   "execution_count": null,
   "metadata": {},
   "outputs": [],
   "source": [
    "InputFolderA = \"path/to/SU11A\"\n",
    "InputFolderB = f\"{InputFolderA[:-1]}B\"\n",
    "InputFolderB"
   ]
  }
 ],
 "metadata": {
  "kernelspec": {
   "display_name": "vtkfenics",
   "language": "python",
   "name": "python3"
  },
  "language_info": {
   "codemirror_mode": {
    "name": "ipython",
    "version": 3
   },
   "file_extension": ".py",
   "mimetype": "text/x-python",
   "name": "python",
   "nbconvert_exporter": "python",
   "pygments_lexer": "ipython3",
   "version": "3.11.4"
  }
 },
 "nbformat": 4,
 "nbformat_minor": 2
}
