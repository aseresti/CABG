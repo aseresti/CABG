{
 "cells": [
  {
   "cell_type": "markdown",
   "metadata": {},
   "source": [
    "# Compare Territories\n",
    "\n",
    "This should include:\n",
    " - Classify major territories (LAD, Diag1, Diag2, Intermedius, LCx, RPLA, PDA)\n",
    " - Take index MBF in each territory\n",
    " - Output Bar charts"
   ]
  },
  {
   "cell_type": "code",
   "execution_count": 6,
   "metadata": {},
   "outputs": [],
   "source": [
    "#classify major territories\n",
    "import numpy as np\n",
    "\n",
    "MBF_data_pre = {\"LAD\": np.array([]), \"LCx\": np.array([]), \"Intermedius\": np.array([]), \"Diag1\": np.array([]), \"Diag2\": np.array([]), \"PDA\": np.array([]), \"PL\": np.array([])}\n",
    "MBF_data_post = {\"LAD\": np.array([]), \"LCx\": np.array([]), \"Intermedius\": np.array([]), \"Diag1\": np.array([]), \"Diag2\": np.array([]), \"PDA\": np.array([]), \"PL\": np.array([])}\n",
    "MBF_Labels = {\"LAD\": [], \"LCx\":[], \"Intermedius\":[], \"Diag1\":[], \"Diag2\":[], \"PDA\":[], \"PL\":[]}\n",
    "\n",
    "InputMBFB = \"/Users/ana/Documents/AnahitaSeresti/05_PrePostCABG/MBFMaps/SU11B/MBF_Territories_Normalized.vtu\"\n",
    "InputMBFA = \"/Users/ana/Documents/AnahitaSeresti/05_PrePostCABG/MBFMaps/SU11A/MBF_Territories_Normalized.vtu\"\n",
    "InputLabelFile = \"/Users/ana/Documents/AnahitaSeresti/05_PrePostCABG/MBFMaps/SU11B/MBF_Territories_Labels.dat\"\n",
    "\n",
    "with open(InputLabelFile, \"r\") as ifile:\n",
    "    for LINE in ifile:\n",
    "        line = LINE.split()\n",
    "        for key in MBF_Labels.keys():\n",
    "            if line[1].find(key)>=0: MBF_Labels[key].append(int(line[0]))"
   ]
  },
  {
   "cell_type": "code",
   "execution_count": 7,
   "metadata": {},
   "outputs": [
    {
     "name": "stderr",
     "output_type": "stream",
     "text": [
      "\u001b[0m\u001b[33m2025-05-07 23:50:27.907 (  29.658s) [            264A]       vtkThreshold.cxx:99    WARN| vtkThreshold::ThresholdBetween was deprecated for VTK 9.1 and will be removed in a future version.\u001b[0m\n",
      "\u001b[0m\u001b[33m2025-05-07 23:50:27.920 (  29.670s) [            264A]       vtkThreshold.cxx:99    WARN| vtkThreshold::ThresholdBetween was deprecated for VTK 9.1 and will be removed in a future version.\u001b[0m\n",
      "\u001b[0m\u001b[33m2025-05-07 23:50:27.939 (  29.689s) [            264A]       vtkThreshold.cxx:99    WARN| vtkThreshold::ThresholdBetween was deprecated for VTK 9.1 and will be removed in a future version.\u001b[0m\n",
      "\u001b[0m\u001b[33m2025-05-07 23:50:27.949 (  29.699s) [            264A]       vtkThreshold.cxx:99    WARN| vtkThreshold::ThresholdBetween was deprecated for VTK 9.1 and will be removed in a future version.\u001b[0m\n",
      "\u001b[0m\u001b[33m2025-05-07 23:50:27.964 (  29.714s) [            264A]       vtkThreshold.cxx:99    WARN| vtkThreshold::ThresholdBetween was deprecated for VTK 9.1 and will be removed in a future version.\u001b[0m\n",
      "\u001b[0m\u001b[33m2025-05-07 23:50:27.973 (  29.724s) [            264A]       vtkThreshold.cxx:99    WARN| vtkThreshold::ThresholdBetween was deprecated for VTK 9.1 and will be removed in a future version.\u001b[0m\n",
      "\u001b[0m\u001b[33m2025-05-07 23:50:27.988 (  29.738s) [            264A]       vtkThreshold.cxx:99    WARN| vtkThreshold::ThresholdBetween was deprecated for VTK 9.1 and will be removed in a future version.\u001b[0m\n",
      "\u001b[0m\u001b[33m2025-05-07 23:50:27.996 (  29.747s) [            264A]       vtkThreshold.cxx:99    WARN| vtkThreshold::ThresholdBetween was deprecated for VTK 9.1 and will be removed in a future version.\u001b[0m\n",
      "\u001b[0m\u001b[33m2025-05-07 23:50:28.008 (  29.759s) [            264A]       vtkThreshold.cxx:99    WARN| vtkThreshold::ThresholdBetween was deprecated for VTK 9.1 and will be removed in a future version.\u001b[0m\n",
      "\u001b[0m\u001b[33m2025-05-07 23:50:28.018 (  29.769s) [            264A]       vtkThreshold.cxx:99    WARN| vtkThreshold::ThresholdBetween was deprecated for VTK 9.1 and will be removed in a future version.\u001b[0m\n",
      "\u001b[0m\u001b[33m2025-05-07 23:50:28.033 (  29.783s) [            264A]       vtkThreshold.cxx:99    WARN| vtkThreshold::ThresholdBetween was deprecated for VTK 9.1 and will be removed in a future version.\u001b[0m\n",
      "\u001b[0m\u001b[33m2025-05-07 23:50:28.043 (  29.794s) [            264A]       vtkThreshold.cxx:99    WARN| vtkThreshold::ThresholdBetween was deprecated for VTK 9.1 and will be removed in a future version.\u001b[0m\n",
      "\u001b[0m\u001b[33m2025-05-07 23:50:28.062 (  29.813s) [            264A]       vtkThreshold.cxx:99    WARN| vtkThreshold::ThresholdBetween was deprecated for VTK 9.1 and will be removed in a future version.\u001b[0m\n",
      "\u001b[0m\u001b[33m2025-05-07 23:50:28.071 (  29.822s) [            264A]       vtkThreshold.cxx:99    WARN| vtkThreshold::ThresholdBetween was deprecated for VTK 9.1 and will be removed in a future version.\u001b[0m\n",
      "\u001b[0m\u001b[33m2025-05-07 23:50:28.086 (  29.837s) [            264A]       vtkThreshold.cxx:99    WARN| vtkThreshold::ThresholdBetween was deprecated for VTK 9.1 and will be removed in a future version.\u001b[0m\n",
      "\u001b[0m\u001b[33m2025-05-07 23:50:28.094 (  29.844s) [            264A]       vtkThreshold.cxx:99    WARN| vtkThreshold::ThresholdBetween was deprecated for VTK 9.1 and will be removed in a future version.\u001b[0m\n",
      "\u001b[0m\u001b[33m2025-05-07 23:50:28.107 (  29.857s) [            264A]       vtkThreshold.cxx:99    WARN| vtkThreshold::ThresholdBetween was deprecated for VTK 9.1 and will be removed in a future version.\u001b[0m\n",
      "\u001b[0m\u001b[33m2025-05-07 23:50:28.114 (  29.865s) [            264A]       vtkThreshold.cxx:99    WARN| vtkThreshold::ThresholdBetween was deprecated for VTK 9.1 and will be removed in a future version.\u001b[0m\n",
      "\u001b[0m\u001b[33m2025-05-07 23:50:28.128 (  29.879s) [            264A]       vtkThreshold.cxx:99    WARN| vtkThreshold::ThresholdBetween was deprecated for VTK 9.1 and will be removed in a future version.\u001b[0m\n",
      "\u001b[0m\u001b[33m2025-05-07 23:50:28.137 (  29.888s) [            264A]       vtkThreshold.cxx:99    WARN| vtkThreshold::ThresholdBetween was deprecated for VTK 9.1 and will be removed in a future version.\u001b[0m\n",
      "\u001b[0m\u001b[33m2025-05-07 23:50:28.151 (  29.902s) [            264A]       vtkThreshold.cxx:99    WARN| vtkThreshold::ThresholdBetween was deprecated for VTK 9.1 and will be removed in a future version.\u001b[0m\n",
      "\u001b[0m\u001b[33m2025-05-07 23:50:28.162 (  29.912s) [            264A]       vtkThreshold.cxx:99    WARN| vtkThreshold::ThresholdBetween was deprecated for VTK 9.1 and will be removed in a future version.\u001b[0m\n",
      "\u001b[0m\u001b[33m2025-05-07 23:50:28.177 (  29.927s) [            264A]       vtkThreshold.cxx:99    WARN| vtkThreshold::ThresholdBetween was deprecated for VTK 9.1 and will be removed in a future version.\u001b[0m\n",
      "\u001b[0m\u001b[33m2025-05-07 23:50:28.187 (  29.938s) [            264A]       vtkThreshold.cxx:99    WARN| vtkThreshold::ThresholdBetween was deprecated for VTK 9.1 and will be removed in a future version.\u001b[0m\n",
      "\u001b[0m\u001b[33m2025-05-07 23:50:28.201 (  29.952s) [            264A]       vtkThreshold.cxx:99    WARN| vtkThreshold::ThresholdBetween was deprecated for VTK 9.1 and will be removed in a future version.\u001b[0m\n",
      "\u001b[0m\u001b[33m2025-05-07 23:50:28.210 (  29.960s) [            264A]       vtkThreshold.cxx:99    WARN| vtkThreshold::ThresholdBetween was deprecated for VTK 9.1 and will be removed in a future version.\u001b[0m\n",
      "\u001b[0m\u001b[33m2025-05-07 23:50:28.223 (  29.973s) [            264A]       vtkThreshold.cxx:99    WARN| vtkThreshold::ThresholdBetween was deprecated for VTK 9.1 and will be removed in a future version.\u001b[0m\n",
      "\u001b[0m\u001b[33m2025-05-07 23:50:28.231 (  29.982s) [            264A]       vtkThreshold.cxx:99    WARN| vtkThreshold::ThresholdBetween was deprecated for VTK 9.1 and will be removed in a future version.\u001b[0m\n",
      "\u001b[0m\u001b[33m2025-05-07 23:50:28.245 (  29.995s) [            264A]       vtkThreshold.cxx:99    WARN| vtkThreshold::ThresholdBetween was deprecated for VTK 9.1 and will be removed in a future version.\u001b[0m\n",
      "\u001b[0m\u001b[33m2025-05-07 23:50:28.255 (  30.006s) [            264A]       vtkThreshold.cxx:99    WARN| vtkThreshold::ThresholdBetween was deprecated for VTK 9.1 and will be removed in a future version.\u001b[0m\n",
      "\u001b[0m\u001b[33m2025-05-07 23:50:28.270 (  30.021s) [            264A]       vtkThreshold.cxx:99    WARN| vtkThreshold::ThresholdBetween was deprecated for VTK 9.1 and will be removed in a future version.\u001b[0m\n",
      "\u001b[0m\u001b[33m2025-05-07 23:50:28.282 (  30.033s) [            264A]       vtkThreshold.cxx:99    WARN| vtkThreshold::ThresholdBetween was deprecated for VTK 9.1 and will be removed in a future version.\u001b[0m\n",
      "\u001b[0m\u001b[33m2025-05-07 23:50:28.300 (  30.051s) [            264A]       vtkThreshold.cxx:99    WARN| vtkThreshold::ThresholdBetween was deprecated for VTK 9.1 and will be removed in a future version.\u001b[0m\n",
      "\u001b[0m\u001b[33m2025-05-07 23:50:28.313 (  30.063s) [            264A]       vtkThreshold.cxx:99    WARN| vtkThreshold::ThresholdBetween was deprecated for VTK 9.1 and will be removed in a future version.\u001b[0m\n",
      "\u001b[0m\u001b[33m2025-05-07 23:50:28.330 (  30.080s) [            264A]       vtkThreshold.cxx:99    WARN| vtkThreshold::ThresholdBetween was deprecated for VTK 9.1 and will be removed in a future version.\u001b[0m\n",
      "\u001b[0m\u001b[33m2025-05-07 23:50:28.339 (  30.090s) [            264A]       vtkThreshold.cxx:99    WARN| vtkThreshold::ThresholdBetween was deprecated for VTK 9.1 and will be removed in a future version.\u001b[0m\n",
      "\u001b[0m\u001b[33m2025-05-07 23:50:28.353 (  30.103s) [            264A]       vtkThreshold.cxx:99    WARN| vtkThreshold::ThresholdBetween was deprecated for VTK 9.1 and will be removed in a future version.\u001b[0m\n",
      "\u001b[0m\u001b[33m2025-05-07 23:50:28.360 (  30.110s) [            264A]       vtkThreshold.cxx:99    WARN| vtkThreshold::ThresholdBetween was deprecated for VTK 9.1 and will be removed in a future version.\u001b[0m\n",
      "\u001b[0m\u001b[33m2025-05-07 23:50:28.372 (  30.123s) [            264A]       vtkThreshold.cxx:99    WARN| vtkThreshold::ThresholdBetween was deprecated for VTK 9.1 and will be removed in a future version.\u001b[0m\n",
      "\u001b[0m\u001b[33m2025-05-07 23:50:28.382 (  30.133s) [            264A]       vtkThreshold.cxx:99    WARN| vtkThreshold::ThresholdBetween was deprecated for VTK 9.1 and will be removed in a future version.\u001b[0m\n",
      "\u001b[0m\u001b[33m2025-05-07 23:50:28.400 (  30.151s) [            264A]       vtkThreshold.cxx:99    WARN| vtkThreshold::ThresholdBetween was deprecated for VTK 9.1 and will be removed in a future version.\u001b[0m\n",
      "\u001b[0m\u001b[33m2025-05-07 23:50:28.413 (  30.164s) [            264A]       vtkThreshold.cxx:99    WARN| vtkThreshold::ThresholdBetween was deprecated for VTK 9.1 and will be removed in a future version.\u001b[0m\n",
      "\u001b[0m\u001b[33m2025-05-07 23:50:28.435 (  30.185s) [            264A]       vtkThreshold.cxx:99    WARN| vtkThreshold::ThresholdBetween was deprecated for VTK 9.1 and will be removed in a future version.\u001b[0m\n",
      "\u001b[0m\u001b[33m2025-05-07 23:50:28.444 (  30.194s) [            264A]       vtkThreshold.cxx:99    WARN| vtkThreshold::ThresholdBetween was deprecated for VTK 9.1 and will be removed in a future version.\u001b[0m\n"
     ]
    }
   ],
   "source": [
    "import vtk\n",
    "import numpy as np\n",
    "from utilities import ReadVTUFile, ThresholdInBetween\n",
    "from vtk.util.numpy_support import vtk_to_numpy\n",
    "\n",
    "MBF_A = ReadVTUFile(InputMBFA)\n",
    "MBF_B = ReadVTUFile(InputMBFB)\n",
    "\n",
    "for key in MBF_Labels.keys():\n",
    "    for i in MBF_Labels[key]:\n",
    "        territory_b = ThresholdInBetween(MBF_B, \"TerritoryMaps\", i, i+1)\n",
    "        indexMBF_ = vtk_to_numpy(territory_b.GetPointData().GetArray(\"IndexMBF\"))\n",
    "        MBF_data_post[key] = np.append(indexMBF_, MBF_data_post[key])\n",
    "\n",
    "        territory_a = ThresholdInBetween(MBF_A, \"TerritoryMaps\", i, i+1)\n",
    "        indexMBF_ = vtk_to_numpy(territory_a.GetPointData().GetArray(\"IndexMBF\"))\n",
    "        MBF_data_pre[key] = np.append(indexMBF_, MBF_data_pre[key])\n",
    "\n"
   ]
  },
  {
   "cell_type": "code",
   "execution_count": null,
   "metadata": {},
   "outputs": [],
   "source": [
    "#plot\n",
    "import matplotlib.pyplot as plt\n",
    "\n",
    "Labels = []\n",
    "IndexMBF = []\n",
    "for key in MBF_Labels.keys():\n",
    "    Labels.append(f'{key}_pre')\n",
    "    Labels.append(f'{key}_post')\n",
    "    IndexMBF.append(MBF_data_pre[key])\n",
    "    IndexMBF.append(MBF_data_post[key])\n",
    "\n",
    "\n",
    "colors = ['aquamarine', 'aquamarine', 'mediumspringgreen', 'mediumspringgreen', 'palegreen', 'palegreen', 'thistle', 'thistle', 'lavender', 'lavender', 'salmon', 'salmon', 'peachpuff', 'peachpuff']\n",
    "\n",
    "fig, ax = plt.subplots()\n",
    "ax.set_ylabel(\"Index MBF\", fontdict={'color':'blue','size':20})\n",
    "ax.set_ylim(0, 2)\n",
    "\n",
    "\n",
    "bplot = ax.boxplot(IndexMBF, patch_artist=True, labels=Labels, showfliers= False)\n",
    "\n",
    "for patch, color in zip(bplot['boxes'], colors):\n",
    "    patch.set_color(color)\n",
    "\n",
    "for median in bplot['medians']:\n",
    "    median.set_color('darkblue')\n",
    "    median.set_linewidth(2)\n",
    "\n",
    "plt.setp(ax.get_xticklabels(), rotation=45, ha='right')\n",
    "\n",
    "plt.tight_layout()\n",
    "plt.show()\n",
    "\n",
    "\n",
    "\n"
   ]
  },
  {
   "cell_type": "code",
   "execution_count": null,
   "metadata": {},
   "outputs": [],
   "source": [
    "MBF_data_pre = {\"LAD\": np.array([]), \"LCx\": np.array([]), \"Intermedius\": np.array([]), \"Diag1\": np.array([]), \"Diag2\": np.array([]), \"PDA\": np.array([]), \"PL\": np.array([])}\n",
    "MBF_data_post = {\"LAD\": np.array([]), \"LCx\": np.array([]), \"Intermedius\": np.array([]), \"Diag1\": np.array([]), \"Diag2\": np.array([]), \"PDA\": np.array([]), \"PL\": np.array([])}\n",
    "\n",
    "for key in MBF_Labels.keys():\n",
    "    for i in MBF_Labels[key]:\n",
    "        territory_b = ThresholdInBetween(MBF_B, \"TerritoryMaps\", i, i+1)\n",
    "        indexMBF_ = vtk_to_numpy(territory_b.GetPointData().GetArray(0))\n",
    "        MBF_data_post[key] = np.append(indexMBF_, MBF_data_post[key])\n",
    "\n",
    "        territory_a = ThresholdInBetween(MBF_A, \"TerritoryMaps\", i, i+1)\n",
    "        indexMBF_ = vtk_to_numpy(territory_a.GetPointData().GetArray(0))\n",
    "        MBF_data_pre[key] = np.append(indexMBF_, MBF_data_pre[key])\n",
    "\n",
    "Labels = []\n",
    "IndexMBF = []\n",
    "for key in MBF_Labels.keys():\n",
    "    Labels.append(f'{key}_pre')\n",
    "    Labels.append(f'{key}_post')\n",
    "    IndexMBF.append(MBF_data_pre[key])\n",
    "    IndexMBF.append(MBF_data_post[key])\n",
    "\n",
    "\n",
    "colors = ['aquamarine', 'aquamarine', 'palegreen', 'palegreen', 'lightcyan', 'lightcyan', 'thistle', 'thistle', 'lavender', 'lavender', 'salmon', 'salmon', 'peachpuff', 'peachpuff']\n",
    "\n",
    "fig, ax = plt.subplots()\n",
    "ax.set_ylabel(\"MBF (ml/min/100g)\", fontdict={'color':'blue','size':20})\n",
    "#ax.set_ylim(0, 2)\n",
    "\n",
    "\n",
    "bplot = ax.boxplot(IndexMBF, patch_artist=True, labels=Labels, showfliers= False)\n",
    "\n",
    "for patch, color in zip(bplot['boxes'], colors):\n",
    "    patch.set_color(color)\n",
    "\n",
    "for median in bplot['medians']:\n",
    "    median.set_color('darkblue')\n",
    "    median.set_linewidth(2)\n",
    "\n",
    "plt.setp(ax.get_xticklabels(), rotation=45, ha='right', fontsize = 13)\n",
    "\n",
    "plt.tight_layout()\n",
    "plt.show()\n"
   ]
  },
  {
   "cell_type": "code",
   "execution_count": null,
   "metadata": {},
   "outputs": [],
   "source": [
    "for (i, key) in enumerate(MBF_Labels.keys()):\n",
    "    print(key, i)\n",
    "\n",
    "if 2 is not 1:\n",
    "    print( \"2 is not 1\")"
   ]
  },
  {
   "cell_type": "code",
   "execution_count": null,
   "metadata": {},
   "outputs": [],
   "source": [
    "print(MBF_data_pre[\"Intermedius\"] is None)"
   ]
  },
  {
   "cell_type": "code",
   "execution_count": null,
   "metadata": {},
   "outputs": [],
   "source": [
    "cavitycapped = \"/Users/ana/Documents/AnahitaSeresti/05_PrePostCABG/MBFMaps/SU11B/Morphology/CavityCapped.vtp\"\n",
    "endocardium = \"/Users/ana/Documents/AnahitaSeresti/05_PrePostCABG/MBFMaps/SU11B/Morphology/Endocardium.vtp\"\n",
    "epicardium = \"/Users/ana/Documents/AnahitaSeresti/05_PrePostCABG/MBFMaps/SU11B/Morphology/Epicardium.vtp\"\n",
    "\n",
    "from utilities import ReadVTPFile\n",
    "\n",
    "CavityCapped = ReadVTPFile(cavitycapped)\n",
    "Endocardium = ReadVTPFile(endocardium)\n",
    "Epicardium = ReadVTPFile(epicardium)\n",
    "\n"
   ]
  },
  {
   "cell_type": "code",
   "execution_count": null,
   "metadata": {},
   "outputs": [],
   "source": [
    "CavityProp = vtk.vtkMassProperties()\n",
    "CavityProp.SetInputData(CavityCapped)\n",
    "CavityProp.Update()\n",
    "volume = CavityProp.GetVolume()\n",
    "volume"
   ]
  },
  {
   "cell_type": "code",
   "execution_count": null,
   "metadata": {},
   "outputs": [],
   "source": [
    "EndoProp = vtk.vtkMassProperties()\n",
    "EndoProp.SetInputData(Endocardium)\n",
    "EndoProp.Update()\n",
    "surface = EndoProp.GetSurfaceArea()\n",
    "surface"
   ]
  },
  {
   "cell_type": "code",
   "execution_count": null,
   "metadata": {},
   "outputs": [],
   "source": [
    "distancefilter = vtk.vtkDistancePolyDataFilter()\n",
    "distancefilter.SetInputData(1, Endocardium)\n",
    "distancefilter.SetInputData(0, Epicardium)\n",
    "distancefilter.SignedDistanceOff()\n",
    "distancefilter.Update()\n",
    "\n",
    "distoutput = distancefilter.GetOutput()\n"
   ]
  },
  {
   "cell_type": "code",
   "execution_count": null,
   "metadata": {},
   "outputs": [],
   "source": [
    "InputFolderA = \"path/to/SU11A\"\n",
    "InputFolderB = f\"{InputFolderA[:-1]}B\"\n",
    "InputFolderB"
   ]
  },
  {
   "cell_type": "code",
   "execution_count": null,
   "metadata": {},
   "outputs": [],
   "source": [
    "from utilities import ExtractSurface\n",
    "\n",
    "MBF_surface = ExtractSurface(MBF_B)"
   ]
  },
  {
   "cell_type": "code",
   "execution_count": null,
   "metadata": {},
   "outputs": [],
   "source": [
    "TerritoyProfile_Array = vtk.vtkFloatArray()\n",
    "TerritoyProfile_Array.SetName(\"TerritoryMaps\")\n",
    "TerritoyProfile_Array.SetNumberOfComponents(1)\n",
    "TerritoyProfile_Array.SetNumberOfTuples(distoutput.GetNumberOfPoints())\n",
    "\n",
    "TerritoryMap = MBF_B.GetPointData().GetArray(\"TerritoryMaps\")\n",
    "\n",
    "Locator = vtk.vtkPointLocator()\n",
    "Locator.SetDataSet(MBF_B)\n",
    "Locator.BuildLocator()\n",
    "\n",
    "for i in range(distoutput.GetNumberOfPoints()):\n",
    "    point = distoutput.GetPoint(i)\n",
    "    closest_point_id = Locator.FindClosestPoint(point)\n",
    "\n",
    "    TerritoyProfile_Array.SetValue(i, TerritoryMap.GetValue(closest_point_id))\n",
    "\n",
    "distoutput.GetPointData().AddArray(TerritoyProfile_Array)\n",
    "\n",
    "import os\n",
    "from utilities import WriteVTPFile\n",
    "WriteVTPFile(f\"{os.path.splitext(epicardium)[0]}_distance.vtp\", distoutput)"
   ]
  },
  {
   "cell_type": "code",
   "execution_count": 3,
   "metadata": {},
   "outputs": [
    {
     "name": "stdout",
     "output_type": "stream",
     "text": [
      "['__class__', '__class_getitem__', '__contains__', '__delattr__', '__delitem__', '__dir__', '__doc__', '__eq__', '__format__', '__ge__', '__getattribute__', '__getitem__', '__getstate__', '__gt__', '__hash__', '__init__', '__init_subclass__', '__ior__', '__iter__', '__le__', '__len__', '__lt__', '__ne__', '__new__', '__or__', '__reduce__', '__reduce_ex__', '__repr__', '__reversed__', '__ror__', '__setattr__', '__setitem__', '__sizeof__', '__str__', '__subclasshook__', 'clear', 'copy', 'fromkeys', 'get', 'items', 'keys', 'pop', 'popitem', 'setdefault', 'update', 'values']\n",
      "a a1\n",
      "b b2\n",
      "c c3\n"
     ]
    }
   ],
   "source": [
    "MBF_data = {'a': 'a1', 'b':'b2', 'c':'c3'}\n",
    "print(dir(MBF_data))\n",
    "for (key, item) in MBF_data.items():\n",
    "    print(key, item)"
   ]
  },
  {
   "cell_type": "code",
   "execution_count": 17,
   "metadata": {},
   "outputs": [
    {
     "data": {
      "text/plain": [
       "0.3908755981115779"
      ]
     },
     "execution_count": 17,
     "metadata": {},
     "output_type": "execute_result"
    }
   ],
   "source": [
    "def ComputeVolume(ClosedSurface):\n",
    "        tri_filter = vtk.vtkTriangleFilter()\n",
    "        tri_filter.SetInputData(ClosedSurface)\n",
    "        tri_filter.Update()\n",
    "\n",
    "        cleaner = vtk.vtkCleanPolyData()\n",
    "        cleaner.SetInputData(tri_filter.GetOutput())\n",
    "        cleaner.Update()\n",
    "\n",
    "        Mass = vtk.vtkMassProperties()\n",
    "        Mass.SetInputData(cleaner.GetOutput())\n",
    "        Mass.Update()\n",
    "\n",
    "        return Mass.GetVolume()\n",
    "\n",
    "from utilities import ExtractSurface\n",
    "\n",
    "territory_ = ThresholdInBetween(MBF_A, \"TerritoryMaps\", 1, 1)\n",
    "if territory_.GetNumberOfPoints() > 0:\n",
    "    volume = ComputeVolume(ExtractSurface(territory_))\n",
    "\n",
    "volume"
   ]
  }
 ],
 "metadata": {
  "kernelspec": {
   "display_name": "vtkfenics",
   "language": "python",
   "name": "python3"
  },
  "language_info": {
   "codemirror_mode": {
    "name": "ipython",
    "version": 3
   },
   "file_extension": ".py",
   "mimetype": "text/x-python",
   "name": "python",
   "nbconvert_exporter": "python",
   "pygments_lexer": "ipython3",
   "version": "3.11.4"
  }
 },
 "nbformat": 4,
 "nbformat_minor": 2
}
