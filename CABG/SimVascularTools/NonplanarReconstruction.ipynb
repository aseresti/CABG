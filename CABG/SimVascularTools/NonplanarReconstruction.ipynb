{
 "cells": [
  {
   "cell_type": "code",
   "execution_count": 16,
   "metadata": {},
   "outputs": [],
   "source": [
    "import os\n",
    "import vtk\n",
    "import numpy as np\n",
    "import matplotlib.pyplot as plt\n",
    "from utilities import ReadVTIFile, WriteVTPFile\n",
    "import xml.etree.ElementTree as ET\n",
    "from scipy.spatial.transform import Rotation as R\n",
    "from vtk.util.numpy_support import vtk_to_numpy\n",
    "\n",
    "\n",
    "InputFolder = \"/Users/ana/Documents/AnahitaSeresti/05_PrePostCABG/FlowVisualization/SU03B/Paths\"\n",
    "g1 = os.path.join(InputFolder,\"graft1.pth\")\n",
    "g2 = os.path.join(InputFolder,\"graft2.pth\")\n",
    "image = os.path.join(InputFolder, \"SU03B.vti\")\n"
   ]
  },
  {
   "cell_type": "code",
   "execution_count": 17,
   "metadata": {},
   "outputs": [],
   "source": [
    "ImageVTI = ReadVTIFile(image)"
   ]
  },
  {
   "cell_type": "code",
   "execution_count": 18,
   "metadata": {},
   "outputs": [],
   "source": [
    "def CutPlane(Volume,Origin,Norm):\n",
    "    plane=vtk.vtkPlane()\n",
    "    plane.SetOrigin(Origin)\n",
    "    plane.SetNormal(Norm)\n",
    "    Slice=vtk.vtkCutter()\n",
    "    Slice.GenerateTrianglesOff()\n",
    "    Slice.SetCutFunction(plane)\n",
    "    Slice.SetInputData(Volume)\n",
    "    Slice.Update()\n",
    "    return Slice.GetOutput()\n",
    "\n",
    "def PlaneClip(volume,center, a):\n",
    "    box = vtk.vtkBox()\n",
    "    box.SetBounds(\n",
    "        center[0] - a, center[0] + a,\n",
    "        center[1] - a, center[1] + a,\n",
    "        center[2] - a, center[2] + a\n",
    "    )\n",
    "\n",
    "    clipper = vtk.vtkClipDataSet()\n",
    "    clipper.SetInputData(volume)\n",
    "    clipper.SetClipFunction(box)\n",
    "    clipper.InsideOutOn()\n",
    "    clipper.GetOutputInformation(1)\n",
    "    clipper.Update()\n",
    "\n",
    "    return clipper.GetOutput()\n",
    "\n",
    "def clip_polydata_with_plane(polydata, origin, normal, inside_out=False):\n",
    "    plane = vtk.vtkPlane()\n",
    "    plane.SetOrigin(origin)\n",
    "    plane.SetNormal(normal)\n",
    "\n",
    "    clipper = vtk.vtkClipPolyData()\n",
    "    clipper.SetInputData(polydata)\n",
    "    clipper.SetClipFunction(plane)\n",
    "\n",
    "    if inside_out:\n",
    "        clipper.InsideOutOn()\n",
    "    else:\n",
    "        clipper.InsideOutOff()\n",
    "    \n",
    "    clipper.Update()\n",
    "\n",
    "    return clipper.GetOutput()"
   ]
  },
  {
   "cell_type": "code",
   "execution_count": 19,
   "metadata": {},
   "outputs": [
    {
     "name": "stdout",
     "output_type": "stream",
     "text": [
      "the number of points in the centerline is: 113\n"
     ]
    }
   ],
   "source": [
    "pathline_file = g1\n",
    "\n",
    "with open(pathline_file, \"r\") as path:\n",
    "    #path.readlines()\n",
    "    tree = ET.parse(path)\n",
    "root = tree.getroot()\n",
    "\n",
    "direction_points = []\n",
    "for direction_point in root.findall(\".//path_point/tangent\"):\n",
    "    x = float(direction_point.attrib['x'])\n",
    "    y = float(direction_point.attrib['y'])\n",
    "    z = float(direction_point.attrib['z'])\n",
    "    direction_points.append((x,y,z))\n",
    "\n",
    "path_points = []\n",
    "for path_point in root.findall(\".//path_point/pos\"):\n",
    "    x = float(path_point.attrib['x'])\n",
    "    y = float(path_point.attrib['y'])\n",
    "    z = float(path_point.attrib['z'])\n",
    "    path_points.append((x,y,z))\n",
    "\n",
    "path_normals = []\n",
    "for normal in root.findall(\".//path_point/rotation\"):\n",
    "    x = float(normal.attrib['x'])\n",
    "    y = float(normal.attrib['y'])\n",
    "    z = float(normal.attrib['z'])\n",
    "    path_normals.append((x,y,z))\n",
    "\n",
    "NPoints = len(path_points)\n",
    "print(\"the number of points in the centerline is:\", NPoints)\n",
    "\n",
    "binormal = []\n",
    "for i in range(NPoints):\n",
    "    binormal_ = np.cross(np.array(direction_points[i]),np.array(path_normals[i]))\n",
    "    binormal_ /= np.linalg.norm(binormal_)\n",
    "    binormal.append(binormal_)"
   ]
  },
  {
   "cell_type": "code",
   "execution_count": 20,
   "metadata": {},
   "outputs": [
    {
     "name": "stdout",
     "output_type": "stream",
     "text": [
      "0.021932591874988822\n"
     ]
    }
   ],
   "source": [
    "p = path_points[2]\n",
    "p_ = path_points[0]\n",
    "a_ = (((p[0]-p_[0])**2 + (p[1]-p_[1])**2 + (p[2]-p_[2])**2)**0.5)/2\n",
    "\n",
    "print(a_)"
   ]
  },
  {
   "cell_type": "code",
   "execution_count": 21,
   "metadata": {},
   "outputs": [
    {
     "data": {
      "text/plain": [
       "array([ 0.        , -0.0109663 , -0.02193259, -0.03289889, -0.04386518,\n",
       "       -0.05483148, -0.06579778, -0.07676407, -0.08773037, -0.09869666,\n",
       "       -0.10966296, -0.12062926, -0.13159555, -0.14256185, -0.15352814,\n",
       "       -0.16449444, -0.17546073, -0.18642703, -0.19739333, -0.20835962,\n",
       "       -0.21932592, -0.23029221, -0.24125851, -0.25222481, -0.2631911 ,\n",
       "       -0.2741574 , -0.28512369, -0.29608999, -0.30705629, -0.31802258,\n",
       "       -0.32898888, -0.33995517, -0.35092147, -0.36188777, -0.37285406,\n",
       "       -0.38382036, -0.39478665, -0.40575295, -0.41671925, -0.42768554,\n",
       "       -0.43865184, -0.44961813, -0.46058443, -0.47155073, -0.48251702,\n",
       "       -0.49348332, -0.50444961, -0.51541591, -0.5263822 , -0.5373485 ,\n",
       "       -0.5483148 , -0.55928109, -0.57024739, -0.58121368, -0.59217998,\n",
       "       -0.60314628, -0.61411257, -0.62507887, -0.63604516, -0.64701146,\n",
       "       -0.65797776, -0.66894405, -0.67991035, -0.69087664, -0.70184294,\n",
       "       -0.71280924, -0.72377553, -0.73474183, -0.74570812, -0.75667442,\n",
       "       -0.76764072, -0.77860701, -0.78957331, -0.8005396 , -0.8115059 ,\n",
       "       -0.8224722 , -0.83343849, -0.84440479, -0.85537108, -0.86633738,\n",
       "       -0.87730367, -0.88826997, -0.89923627, -0.91020256, -0.92116886,\n",
       "       -0.93213515, -0.94310145, -0.95406775, -0.96503404, -0.97600034,\n",
       "       -0.98696663, -0.99793293, -1.00889923, -1.01986552, -1.03083182,\n",
       "       -1.04179811, -1.05276441, -1.06373071, -1.074697  , -1.0856633 ,\n",
       "       -1.09662959, -1.10759589, -1.11856219, -1.12952848, -1.14049478,\n",
       "       -1.15146107, -1.16242737, -1.17339367, -1.18435996, -1.19532626,\n",
       "       -1.20629255, -1.21725885])"
      ]
     },
     "execution_count": 21,
     "metadata": {},
     "output_type": "execute_result"
    }
   ],
   "source": [
    "New_Centreline = np.array([-i*a_/2 for i in range(0,(NPoints-1))])\n",
    "New_Centreline"
   ]
  },
  {
   "cell_type": "code",
   "execution_count": 24,
   "metadata": {},
   "outputs": [],
   "source": [
    "def Rotate(slice, normal, direction, ArrayName, centre, new_centre):\n",
    "    rotation1, _ = R.align_vectors([[0, 1, 0]], [normal])\n",
    "    rotation2, _ = R.align_vectors([[0, 0, -1]], [direction])\n",
    "\n",
    "    centre = np.array(centre)\n",
    "    new_centre = np.array(new_centre)\n",
    "    new_point_x = []\n",
    "    new_point_y = []\n",
    "    new_point_z = []\n",
    "    for i in range(slice.GetNumberOfPoints()):\n",
    "        point_init = np.array(slice.GetPoint(i))\n",
    "        point_translated = point_init - centre\n",
    "        point_rotated = rotation2.apply(rotation1.apply( point_translated))\n",
    "        point_final = point_rotated + new_centre\n",
    "        new_point_x.append(point_final[0])\n",
    "        new_point_y.append(point_final[1])\n",
    "        new_point_z.append(point_final[2])\n",
    "\n",
    "    new_point_x = np.array(new_point_x)\n",
    "    new_point_y = np.array(new_point_y)\n",
    "    new_point_z = np.array(new_point_z)\n",
    "    scalar_value = vtk_to_numpy(slice.GetPointData().GetArray(ArrayName))\n",
    "\n",
    "    return new_point_x, new_point_y, new_point_z, scalar_value"
   ]
  },
  {
   "cell_type": "code",
   "execution_count": 25,
   "metadata": {},
   "outputs": [
    {
     "name": "stderr",
     "output_type": "stream",
     "text": [
      "/var/folders/05/bygg4rdj3n7543jkngl6k6z40000gn/T/ipykernel_17150/678400207.py:2: UserWarning: Optimal rotation is not uniquely or poorly defined for the given sets of vectors.\n",
      "  rotation1, _ = R.align_vectors([[0, 1, 0]], [normal])\n",
      "/var/folders/05/bygg4rdj3n7543jkngl6k6z40000gn/T/ipykernel_17150/678400207.py:3: UserWarning: Optimal rotation is not uniquely or poorly defined for the given sets of vectors.\n",
      "  rotation2, _ = R.align_vectors([[0, 0, -1]], [direction])\n"
     ]
    },
    {
     "ename": "TypeError",
     "evalue": "only integer scalar arrays can be converted to a scalar index",
     "output_type": "error",
     "traceback": [
      "\u001b[0;31m---------------------------------------------------------------------------\u001b[0m",
      "\u001b[0;31mTypeError\u001b[0m                                 Traceback (most recent call last)",
      "Cell \u001b[0;32mIn[25], line 17\u001b[0m\n\u001b[1;32m     14\u001b[0m append_filter_npr3d\u001b[38;5;241m.\u001b[39mAddInputData(npr3d_)\n\u001b[1;32m     16\u001b[0m x_, y_, z_, scalar_ \u001b[38;5;241m=\u001b[39m Rotate(npr3d_, binormal[i], direction_points[i], \u001b[38;5;124m\"\u001b[39m\u001b[38;5;124mScalars_\u001b[39m\u001b[38;5;124m\"\u001b[39m, path_points[i], New_Centreline[i])\n\u001b[0;32m---> 17\u001b[0m new_point_x \u001b[38;5;241m=\u001b[39m np\u001b[38;5;241m.\u001b[39mconcatenate(x_, new_point_x)\n\u001b[1;32m     18\u001b[0m new_point_y \u001b[38;5;241m=\u001b[39m np\u001b[38;5;241m.\u001b[39mconcatenate(y_, new_point_y)\n\u001b[1;32m     19\u001b[0m new_point_z \u001b[38;5;241m=\u001b[39m np\u001b[38;5;241m.\u001b[39mconcatenate(z_, new_point_z)\n",
      "\u001b[0;31mTypeError\u001b[0m: only integer scalar arrays can be converted to a scalar index"
     ]
    }
   ],
   "source": [
    "append_filter_npr3d = vtk.vtkAppendPolyData()\n",
    "\n",
    "a = 10*a_\n",
    "\n",
    "new_point_x = np.array([])\n",
    "new_point_y = np.array([])\n",
    "new_point_z = np.array([])\n",
    "Scalars = np.array([])\n",
    "step = 2\n",
    "for i in range(1, 20, step):\n",
    "    npr3d_ = CutPlane(PlaneClip(ImageVTI, path_points[i],a), path_points[i], binormal[i])\n",
    "    npr3d_ = clip_polydata_with_plane(npr3d_,path_points[i-1], direction_points[i])\n",
    "    npr3d_ = clip_polydata_with_plane(npr3d_,path_points[i+1], direction_points[i], True)\n",
    "    append_filter_npr3d.AddInputData(npr3d_)\n",
    "\n",
    "    x_, y_, z_, scalar_ = Rotate(npr3d_, binormal[i], direction_points[i], \"Scalars_\", path_points[i], New_Centreline[i])\n",
    "    new_point_x = np.concatenate(x_, new_point_x)\n",
    "    new_point_y = np.concatenate(y_, new_point_y)\n",
    "    new_point_z = np.concatenate(z_, new_point_z)\n",
    "    Scalars = np.concatenate(scalar_, Scalars)\n",
    "    \n",
    "append_filter_npr3d.Update()\n",
    "NPR3D = append_filter_npr3d.GetOutput()\n",
    "\n",
    "opath = os.path.join(InputFolder, \"NPR3D.vtp\")\n",
    "WriteVTPFile(opath, NPR3D)"
   ]
  },
  {
   "cell_type": "code",
   "execution_count": null,
   "metadata": {},
   "outputs": [],
   "source": [
    "plt.figure(figsize=(6, 6))\n",
    "sc = plt.scatter(new_point_x, new_point_z, c=Scalars, cmap='gray', s=10)\n",
    "plt.colorbar(sc, label='Scalar Value')\n",
    "plt.axis('equal')\n",
    "plt.xlabel('X (rotated)')\n",
    "plt.ylabel('Y (rotated)')\n",
    "plt.title('LV Projection in Short-Axis Plane')\n",
    "plt.show()"
   ]
  }
 ],
 "metadata": {
  "kernelspec": {
   "display_name": "vtkfenics",
   "language": "python",
   "name": "python3"
  },
  "language_info": {
   "codemirror_mode": {
    "name": "ipython",
    "version": 3
   },
   "file_extension": ".py",
   "mimetype": "text/x-python",
   "name": "python",
   "nbconvert_exporter": "python",
   "pygments_lexer": "ipython3",
   "version": "3.11.4"
  }
 },
 "nbformat": 4,
 "nbformat_minor": 2
}
